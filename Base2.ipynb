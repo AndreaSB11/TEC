{
 "cells": [
  {
   "cell_type": "code",
   "execution_count": 4,
   "metadata": {},
   "outputs": [
    {
     "name": "stdout",
     "output_type": "stream",
     "text": [
      "\n",
      "\n"
     ]
    },
    {
     "name": "stdin",
     "output_type": "stream",
     "text": [
      "Provide absolute path for the folder:  /Users/andreasb/Desktop/sentencias2\n"
     ]
    },
    {
     "name": "stdout",
     "output_type": "stream",
     "text": [
      "20:59:03  pdf  -> txt \n",
      "20:59:04  pdf  -> txt \n",
      "20:59:04  pdf  -> txt \n",
      "20:59:05  pdf  -> txt \n",
      "20:59:06  pdf  -> txt \n",
      "20:59:07  pdf  -> txt \n",
      "20:59:08  pdf  -> txt \n",
      "20:59:09  pdf  -> txt \n",
      "20:59:10  pdf  -> txt \n",
      "20:59:11  pdf  -> txt \n",
      "20:59:12  pdf  -> txt \n",
      "20:59:12  pdf  -> txt \n",
      "20:59:14  pdf  -> txt \n",
      "20:59:14  pdf  -> txt \n",
      "20:59:15  pdf  -> txt \n",
      "20:59:16  pdf  -> txt \n",
      "20:59:17  pdf  -> txt \n",
      "20:59:17  pdf  -> txt \n",
      "20:59:19  pdf  -> txt \n",
      "20:59:19  pdf  -> txt \n",
      "20:59:20  pdf  -> txt \n",
      "20:59:21  pdf  -> txt \n",
      "20:59:22  pdf  -> txt \n",
      "20:59:23  pdf  -> txt \n",
      "20:59:23  pdf  -> txt \n",
      "20:59:24  pdf  -> txt \n",
      "20:59:25  pdf  -> txt \n",
      "20:59:27  pdf  -> txt \n",
      "20:59:27  pdf  -> txt \n",
      "20:59:28  pdf  -> txt \n",
      "20:59:29  pdf  -> txt \n",
      "20:59:30  pdf  -> txt \n"
     ]
    }
   ],
   "source": [
    "#Convertir los PDF´S de una carpeta a txt individuales\n",
    "import os\n",
    "from os import chdir, getcwd, listdir, path\n",
    "import PyPDF2\n",
    "from time import strftime\n",
    "\n",
    "\n",
    "def check_path(prompt):\n",
    "\n",
    "    ''' (str) -> str\n",
    "\n",
    "    Verifies if the provided absolute path does exist.\n",
    "\n",
    "    '''\n",
    "\n",
    "    abs_path = input(prompt)\n",
    "\n",
    "    while path.exists(abs_path) != True:\n",
    "\n",
    "        print (\"\\nThe specified path does not exist.\\n\")\n",
    "\n",
    "        abs_path = input(prompt)\n",
    "\n",
    "    return abs_path   \n",
    "\n",
    "\n",
    "print (\"\\n\")\n",
    "\n",
    "\n",
    "folder = check_path(\"Provide absolute path for the folder: \")\n",
    "\n",
    "\n",
    "list=[]\n",
    "\n",
    "directory=folder\n",
    "\n",
    "for root,dirs,files in os.walk(directory):\n",
    "\n",
    "    for filename in files:\n",
    "\n",
    "        if filename.endswith('.pdf'):\n",
    "\n",
    "            t=os.path.join(directory,filename)\n",
    "\n",
    "            list.append(t)\n",
    "\n",
    "\n",
    "for item in list:\n",
    "    path=item\n",
    "\n",
    "    head,tail=os.path.split(path)\n",
    "\n",
    "    var=\"\\\\\"\n",
    "\n",
    "   \n",
    "\n",
    "    tail=tail.replace(\".pdf\",\".txt\")\n",
    "\n",
    "    name=head+var+tail\n",
    "    \n",
    "\n",
    "    content = \"\"\n",
    "\n",
    "    pdf = PyPDF2.PdfFileReader(path, \"rb\")\n",
    "\n",
    "    \n",
    "\n",
    "    for i in range(0, pdf.getNumPages()):\n",
    "\n",
    "        \n",
    "\n",
    "        content += pdf.getPage(i).extractText() + \"\\n\"\n",
    "\n",
    "    print (strftime(\"%H:%M:%S\"), \" pdf  -> txt \")\n",
    "\n",
    "    with open(name,'a') as out:\n",
    "        out.write(content)"
   ]
  },
  {
   "cell_type": "code",
   "execution_count": null,
   "metadata": {},
   "outputs": [],
   "source": []
  }
 ],
 "metadata": {
  "kernelspec": {
   "display_name": "Python 3 (ipykernel)",
   "language": "python",
   "name": "python3"
  },
  "language_info": {
   "codemirror_mode": {
    "name": "ipython",
    "version": 3
   },
   "file_extension": ".py",
   "mimetype": "text/x-python",
   "name": "python",
   "nbconvert_exporter": "python",
   "pygments_lexer": "ipython3",
   "version": "3.9.12"
  },
  "vscode": {
   "interpreter": {
    "hash": "d6130dc0ca154d48d4309febcf6869dce2f08df7913a461d2bad8c19ec3dd616"
   }
  }
 },
 "nbformat": 4,
 "nbformat_minor": 4
}
