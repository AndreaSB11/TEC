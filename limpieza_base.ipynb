{
 "cells": [
  {
   "cell_type": "code",
   "execution_count": 16,
   "id": "0163c9b0",
   "metadata": {},
   "outputs": [],
   "source": [
    "#LIMPIEZA DE TXT \n",
    "x=1\n",
    "while x <=258:\n",
    "    x_add=x\n",
    "    x_add = str(x_add)\n",
    "    x= x+1\n",
    "    path_general = \"/Users/andreasb/Desktop/TEC/Concentración/Actividades/act4/sentencias_txt\"\n",
    "    path_buscar= path_general+\"/\"+\"sentencia\"+\" \"+\"(\"+x_add+\")\"+\".txt\"\n",
    "    file_object=open(path_buscar)\n",
    "    file_content =file_object.read()\n",
    "    file_object.close()\n",
    "    with open(path_buscar, 'r') as f:\n",
    "        lines = f.readlines()\n",
    "    lines = [line.replace('\\n', '') for line in lines]\n",
    "    lines = [line.replace(\"****\",\"\") for line in lines]\n",
    "    lines = [line.replace(\"*\",\"\") for line in lines]\n",
    "    lines = [line.replace(\"**\",\"\") for line in lines]\n",
    "    lines = [line.replace(\",\",\"\") for line in lines]\n",
    "    lines = [line.replace(\";\",\"\") for line in lines]\n",
    "    lines = [line.replace(\"?\",\"\") for line in lines]\n",
    "    lines = [line.replace(\"/\",\"\") for line in lines]\n",
    "    lines = [line.replace(\".\",\"\") for line in lines]\n",
    "    lines = [line.replace(\":\",\"\") for line in lines]\n",
    "    lines = [line.replace(\"-\",\"\") for line in lines]\n",
    "    lines = [line.replace(\"(\",\"\") for line in lines]\n",
    "    lines = [line.replace(\")\",\"\") for line in lines]\n",
    "    lines = [line.replace(\" \",\"\") for line in lines]\n",
    "    lines = [line.replace(\"“\",\"\") for line in lines]\n",
    "    lines = [line.replace(\"”\",\"\") for line in lines]\n",
    "    lines = [line.replace(\"     \",\"\") for line in lines]\n",
    "    lines = [line.replace(\"     \",\"\") for line in lines]\n",
    "    lines = [line.replace(\"                                              \",\"\") for line in lines]\n",
    "    lines = [line.replace(\"    \",\"\") for line in lines]\n",
    "    lines = [line.replace(\"[]\",\"\") for line in lines]\n",
    "     \n",
    "    \n",
    "# finally, write lines in the file\n",
    "    with open(path_buscar, 'w') as f:\n",
    "        f.writelines(lines)"
   ]
  },
  {
   "cell_type": "code",
   "execution_count": 18,
   "id": "79c841c9",
   "metadata": {},
   "outputs": [],
   "source": [
    "#CONVERTIR TXT A CSV \n",
    "#Bibliotecas requeridas:\n",
    "import numpy as np\n",
    "import pandas as pd\n",
    "\n",
    "x=1\n",
    "while x <=258:\n",
    "    x_add=x\n",
    "    x_add = str(x_add)\n",
    "    x= x+1\n",
    "    path_general = \"/Users/andreasb/Desktop/TEC/Concentración/Actividades/act4/sentencias_txt\"\n",
    "    name=x_add+\".csv\"\n",
    "    path_buscar= path_general+\"/\"+\"sentencia\"+\" \"+\"(\"+x_add+\")\"+\".txt\"\n",
    "    file_object=open(path_buscar)\n",
    "    file_content_1=file_object.read()\n",
    "    #Convertir mayúsuclas a minúsculas\n",
    "    file_content=file_content_1.lower()\n",
    "    file_object.close()\n",
    "    import re\n",
    "    result = re.split('\\\\n|\\\\t',file_content)\n",
    "    result\n",
    "    a=[]\n",
    "    for i in result:\n",
    "        a.append(i)\n",
    "    a=np.array(a)\n",
    "    type(a)\n",
    "    MAT=a.reshape((len(a),1))\n",
    "    pd.DataFrame (MAT) .to_csv (name)"
   ]
  },
  {
   "cell_type": "code",
   "execution_count": 21,
   "id": "fdbaa75c",
   "metadata": {},
   "outputs": [],
   "source": [
    "#UNIR LOS 258 ARCHIVOS DE CSV EN UN ARCHIVO CSV\n",
    "#Bibliotecas requeridas:\n",
    "import os\n",
    "import glob \n",
    "import pandas as pd"
   ]
  },
  {
   "cell_type": "code",
   "execution_count": 22,
   "id": "342dbb37",
   "metadata": {},
   "outputs": [
    {
     "data": {
      "text/plain": [
       "'/Users/andreasb/Desktop/TEC/Concentración/Actividades/act4'"
      ]
     },
     "execution_count": 22,
     "metadata": {},
     "output_type": "execute_result"
    }
   ],
   "source": [
    "pwd /Users/andreasb/Desktop/TEC/Concentración/Actividades/act4/sentencias_csv"
   ]
  },
  {
   "cell_type": "code",
   "execution_count": 23,
   "id": "b3940067",
   "metadata": {},
   "outputs": [],
   "source": [
    "os.chdir (\"/Users/andreasb/Desktop/TEC/Concentración/Actividades/act4/sentencias_csv\")"
   ]
  },
  {
   "cell_type": "code",
   "execution_count": 24,
   "id": "e3dd923c",
   "metadata": {},
   "outputs": [
    {
     "name": "stdout",
     "output_type": "stream",
     "text": [
      "1.csv   122.csv 146.csv 17.csv  193.csv 216.csv 24.csv  30.csv  54.csv  78.csv\n",
      "10.csv  123.csv 147.csv 170.csv 194.csv 217.csv 240.csv 31.csv  55.csv  79.csv\n",
      "100.csv 124.csv 148.csv 171.csv 195.csv 218.csv 241.csv 32.csv  56.csv  8.csv\n",
      "101.csv 125.csv 149.csv 172.csv 196.csv 219.csv 242.csv 33.csv  57.csv  80.csv\n",
      "102.csv 126.csv 15.csv  173.csv 197.csv 22.csv  243.csv 34.csv  58.csv  81.csv\n",
      "103.csv 127.csv 150.csv 174.csv 198.csv 220.csv 244.csv 35.csv  59.csv  82.csv\n",
      "104.csv 128.csv 151.csv 175.csv 199.csv 221.csv 245.csv 36.csv  6.csv   83.csv\n",
      "105.csv 129.csv 152.csv 176.csv 2.csv   222.csv 246.csv 37.csv  60.csv  84.csv\n",
      "106.csv 13.csv  153.csv 177.csv 20.csv  223.csv 247.csv 38.csv  61.csv  85.csv\n",
      "107.csv 130.csv 154.csv 178.csv 200.csv 224.csv 248.csv 39.csv  62.csv  86.csv\n",
      "108.csv 131.csv 155.csv 179.csv 201.csv 225.csv 249.csv 4.csv   63.csv  87.csv\n",
      "109.csv 132.csv 156.csv 18.csv  202.csv 226.csv 25.csv  40.csv  64.csv  88.csv\n",
      "11.csv  133.csv 157.csv 180.csv 203.csv 227.csv 250.csv 41.csv  65.csv  89.csv\n",
      "110.csv 134.csv 158.csv 181.csv 204.csv 228.csv 251.csv 42.csv  66.csv  9.csv\n",
      "111.csv 135.csv 159.csv 182.csv 205.csv 229.csv 252.csv 43.csv  67.csv  90.csv\n",
      "112.csv 136.csv 16.csv  183.csv 206.csv 23.csv  253.csv 44.csv  68.csv  91.csv\n",
      "113.csv 137.csv 160.csv 184.csv 207.csv 230.csv 254.csv 45.csv  69.csv  92.csv\n",
      "114.csv 138.csv 161.csv 185.csv 208.csv 231.csv 255.csv 46.csv  7.csv   93.csv\n",
      "115.csv 139.csv 162.csv 186.csv 209.csv 232.csv 256.csv 47.csv  70.csv  94.csv\n",
      "116.csv 14.csv  163.csv 187.csv 21.csv  233.csv 257.csv 48.csv  71.csv  95.csv\n",
      "117.csv 140.csv 164.csv 188.csv 210.csv 234.csv 258.csv 49.csv  72.csv  96.csv\n",
      "118.csv 141.csv 165.csv 189.csv 211.csv 235.csv 26.csv  5.csv   73.csv  97.csv\n",
      "119.csv 142.csv 166.csv 19.csv  212.csv 236.csv 27.csv  50.csv  74.csv  98.csv\n",
      "12.csv  143.csv 167.csv 190.csv 213.csv 237.csv 28.csv  51.csv  75.csv  99.csv\n",
      "120.csv 144.csv 168.csv 191.csv 214.csv 238.csv 29.csv  52.csv  76.csv\n",
      "121.csv 145.csv 169.csv 192.csv 215.csv 239.csv 3.csv   53.csv  77.csv\n",
      "/Users/andreasb/Desktop/TEC/Concentración/Actividades/act4/sentencias_csv\n"
     ]
    }
   ],
   "source": [
    "!ls\n",
    "!pwd"
   ]
  },
  {
   "cell_type": "code",
   "execution_count": 25,
   "id": "bfb9adc3",
   "metadata": {},
   "outputs": [],
   "source": [
    "file_extension= \".csv\""
   ]
  },
  {
   "cell_type": "code",
   "execution_count": 26,
   "id": "3440c98d",
   "metadata": {},
   "outputs": [],
   "source": [
    "all_filnames = [i for i in glob.glob(f\"*{file_extension}\")]"
   ]
  },
  {
   "cell_type": "code",
   "execution_count": 27,
   "id": "f3f4eec0",
   "metadata": {},
   "outputs": [
    {
     "data": {
      "text/plain": [
       "'223.csv'"
      ]
     },
     "execution_count": 27,
     "metadata": {},
     "output_type": "execute_result"
    }
   ],
   "source": [
    "all_filnames[0]"
   ]
  },
  {
   "cell_type": "code",
   "execution_count": 28,
   "id": "d1ac5bce",
   "metadata": {},
   "outputs": [],
   "source": [
    "df = pd.read_csv('223.csv')"
   ]
  },
  {
   "cell_type": "code",
   "execution_count": 29,
   "id": "fff4df5a",
   "metadata": {},
   "outputs": [
    {
     "name": "stdout",
     "output_type": "stream",
     "text": [
      "(1, 2)\n"
     ]
    }
   ],
   "source": [
    "print(df.shape)"
   ]
  },
  {
   "cell_type": "code",
   "execution_count": 30,
   "id": "6e081a2d",
   "metadata": {},
   "outputs": [],
   "source": [
    "combined_csv_data = pd.concat([pd.read_csv(f) for f in all_filnames])"
   ]
  },
  {
   "cell_type": "code",
   "execution_count": 31,
   "id": "7a2b4096",
   "metadata": {},
   "outputs": [],
   "source": [
    "os.chdir(\"..\")"
   ]
  },
  {
   "cell_type": "code",
   "execution_count": 32,
   "id": "aaf72950",
   "metadata": {},
   "outputs": [
    {
     "data": {
      "text/plain": [
       "'/Users/andreasb/Desktop/TEC/Concentración/Actividades/act4'"
      ]
     },
     "execution_count": 32,
     "metadata": {},
     "output_type": "execute_result"
    }
   ],
   "source": [
    "pwd \"/Users/andreasb/Desktop/TEC/Concentración/Actividades/act4/sentencias_csv\""
   ]
  },
  {
   "cell_type": "code",
   "execution_count": 33,
   "id": "f859bee6",
   "metadata": {},
   "outputs": [],
   "source": [
    "combined_csv_data.to_csv(\"combined_csv_data.csv\")"
   ]
  }
 ],
 "metadata": {
  "kernelspec": {
   "display_name": "Python 3 (ipykernel)",
   "language": "python",
   "name": "python3"
  },
  "language_info": {
   "codemirror_mode": {
    "name": "ipython",
    "version": 3
   },
   "file_extension": ".py",
   "mimetype": "text/x-python",
   "name": "python",
   "nbconvert_exporter": "python",
   "pygments_lexer": "ipython3",
   "version": "3.9.12"
  }
 },
 "nbformat": 4,
 "nbformat_minor": 5
}
